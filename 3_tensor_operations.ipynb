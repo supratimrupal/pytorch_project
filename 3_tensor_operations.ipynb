{
  "nbformat": 4,
  "nbformat_minor": 0,
  "metadata": {
    "colab": {
      "provenance": [],
      "toc_visible": true
    },
    "kernelspec": {
      "name": "python3",
      "display_name": "Python 3"
    },
    "language_info": {
      "name": "python"
    }
  },
  "cells": [
    {
      "cell_type": "markdown",
      "source": [
        "##Slicing and Shape"
      ],
      "metadata": {
        "id": "BGN-IVCh5QIL"
      }
    },
    {
      "cell_type": "code",
      "execution_count": 2,
      "metadata": {
        "id": "vcN07TprPlnd"
      },
      "outputs": [],
      "source": [
        "import torch"
      ]
    },
    {
      "cell_type": "code",
      "source": [
        "my_torch=torch.arange(14)\n",
        "my_torch"
      ],
      "metadata": {
        "colab": {
          "base_uri": "https://localhost:8080/"
        },
        "id": "Nvogz6H7evjg",
        "outputId": "92e24a88-c414-439c-ab44-86b6e982a738"
      },
      "execution_count": 3,
      "outputs": [
        {
          "output_type": "execute_result",
          "data": {
            "text/plain": [
              "tensor([ 0,  1,  2,  3,  4,  5,  6,  7,  8,  9, 10, 11, 12, 13])"
            ]
          },
          "metadata": {},
          "execution_count": 3
        }
      ]
    },
    {
      "cell_type": "code",
      "source": [
        "#Reshape and view\n",
        "my_t=my_torch.reshape(7,2)\n",
        "my_t"
      ],
      "metadata": {
        "colab": {
          "base_uri": "https://localhost:8080/"
        },
        "id": "a5AZkmCee1-_",
        "outputId": "6da6800d-20a4-4c3e-d2bb-b706bab643ea"
      },
      "execution_count": 4,
      "outputs": [
        {
          "output_type": "execute_result",
          "data": {
            "text/plain": [
              "tensor([[ 0,  1],\n",
              "        [ 2,  3],\n",
              "        [ 4,  5],\n",
              "        [ 6,  7],\n",
              "        [ 8,  9],\n",
              "        [10, 11],\n",
              "        [12, 13]])"
            ]
          },
          "metadata": {},
          "execution_count": 4
        }
      ]
    },
    {
      "cell_type": "code",
      "source": [
        "my_t1=my_torch.reshape(2,-1)\n",
        "my_t1"
      ],
      "metadata": {
        "colab": {
          "base_uri": "https://localhost:8080/"
        },
        "id": "jV0-8igLfD4G",
        "outputId": "e5124c79-d5e4-4809-9c82-1e3532889096"
      },
      "execution_count": 5,
      "outputs": [
        {
          "output_type": "execute_result",
          "data": {
            "text/plain": [
              "tensor([[ 0,  1,  2,  3,  4,  5,  6],\n",
              "        [ 7,  8,  9, 10, 11, 12, 13]])"
            ]
          },
          "metadata": {},
          "execution_count": 5
        }
      ]
    },
    {
      "cell_type": "code",
      "source": [
        "my_t1=my_torch.reshape(-1,2)\n",
        "my_t1"
      ],
      "metadata": {
        "id": "qDFO0pisfjB2",
        "colab": {
          "base_uri": "https://localhost:8080/"
        },
        "outputId": "1a5a318a-f5a6-4085-d826-916130f658fd"
      },
      "execution_count": 6,
      "outputs": [
        {
          "output_type": "execute_result",
          "data": {
            "text/plain": [
              "tensor([[ 0,  1],\n",
              "        [ 2,  3],\n",
              "        [ 4,  5],\n",
              "        [ 6,  7],\n",
              "        [ 8,  9],\n",
              "        [10, 11],\n",
              "        [12, 13]])"
            ]
          },
          "metadata": {},
          "execution_count": 6
        }
      ]
    },
    {
      "cell_type": "markdown",
      "source": [],
      "metadata": {
        "id": "Z-_sn8Wxii4H"
      }
    },
    {
      "cell_type": "code",
      "source": [
        "my_t5=torch.arange(15)\n",
        "my_t5_reshaped=my_t5.reshape(-1,3)\n",
        "my_t5_reshaped"
      ],
      "metadata": {
        "colab": {
          "base_uri": "https://localhost:8080/"
        },
        "id": "13GFIBaliioM",
        "outputId": "efa5239c-8b30-4d84-989c-f7e209822b6d"
      },
      "execution_count": 23,
      "outputs": [
        {
          "output_type": "execute_result",
          "data": {
            "text/plain": [
              "tensor([[ 0,  1,  2],\n",
              "        [ 3,  4,  5],\n",
              "        [ 6,  7,  8],\n",
              "        [ 9, 10, 11],\n",
              "        [12, 13, 14]])"
            ]
          },
          "metadata": {},
          "execution_count": 23
        }
      ]
    },
    {
      "cell_type": "markdown",
      "source": [],
      "metadata": {
        "id": "L1U_1EbRlH7R"
      }
    },
    {
      "cell_type": "code",
      "source": [
        "my_t5[4]=99\n",
        "my_t5"
      ],
      "metadata": {
        "colab": {
          "base_uri": "https://localhost:8080/"
        },
        "id": "x8toV6lejW18",
        "outputId": "8e3aff17-fcc0-4ce7-b743-0c3f959259ea"
      },
      "execution_count": 14,
      "outputs": [
        {
          "output_type": "execute_result",
          "data": {
            "text/plain": [
              "tensor([ 0,  1,  2,  3, 99,  5,  6,  7,  8,  9, 10, 11, 12, 13, 14])"
            ]
          },
          "metadata": {},
          "execution_count": 14
        }
      ]
    },
    {
      "cell_type": "code",
      "source": [
        "my_t5[4:8]"
      ],
      "metadata": {
        "colab": {
          "base_uri": "https://localhost:8080/"
        },
        "id": "ZwcbeYXrjqnp",
        "outputId": "9338815d-b90b-42ee-d8a5-1928fdb66aee"
      },
      "execution_count": 19,
      "outputs": [
        {
          "output_type": "execute_result",
          "data": {
            "text/plain": [
              "tensor([99,  5,  6,  7])"
            ]
          },
          "metadata": {},
          "execution_count": 19
        }
      ]
    },
    {
      "cell_type": "code",
      "source": [
        "my_t5[4:8:2]"
      ],
      "metadata": {
        "colab": {
          "base_uri": "https://localhost:8080/"
        },
        "id": "vieGNEG2lc8Q",
        "outputId": "9656bf43-ed21-422e-8ac1-5c40cd43aa4a"
      },
      "execution_count": 18,
      "outputs": [
        {
          "output_type": "execute_result",
          "data": {
            "text/plain": [
              "tensor([99,  6])"
            ]
          },
          "metadata": {},
          "execution_count": 18
        }
      ]
    },
    {
      "cell_type": "code",
      "source": [
        "my_t5=torch.arange(15)\n",
        "my_t5_reshaped=my_t5.reshape(-1,3)\n",
        "print(my_t5_reshaped[:,1])\n",
        "print(my_t5_reshaped[:,1:])\n",
        "print(my_t5_reshaped[:,2:])"
      ],
      "metadata": {
        "colab": {
          "base_uri": "https://localhost:8080/"
        },
        "id": "Rbbr5csBlho9",
        "outputId": "4df04f90-a606-4ba5-d188-fd5edf3f40ca"
      },
      "execution_count": 27,
      "outputs": [
        {
          "output_type": "stream",
          "name": "stdout",
          "text": [
            "tensor([ 1,  4,  7, 10, 13])\n",
            "tensor([[ 1,  2],\n",
            "        [ 4,  5],\n",
            "        [ 7,  8],\n",
            "        [10, 11],\n",
            "        [13, 14]])\n",
            "tensor([[ 2],\n",
            "        [ 5],\n",
            "        [ 8],\n",
            "        [11],\n",
            "        [14]])\n"
          ]
        }
      ]
    },
    {
      "cell_type": "markdown",
      "source": [
        "## Math Operations"
      ],
      "metadata": {
        "id": "Hrl_z61D5UVr"
      }
    },
    {
      "cell_type": "code",
      "source": [
        "import torch\n",
        "\n",
        "# Define example tensors\n",
        "a = torch.tensor([10, 25, 30, 42])\n",
        "b = torch.tensor([2, 4, 6, 8])\n",
        "\n",
        "print(\"Tensor a:\", a)\n",
        "print(\"Tensor b:\", b)\n",
        "print(\"\")\n",
        "\n",
        "# 🧮 Addition\n",
        "print(\"Addition: a + b =\", a + b)\n",
        "\n",
        "# ➖ Subtraction\n",
        "print(\"Subtraction: a - b =\", a - b)\n",
        "\n",
        "# ✖️ Element-wise Multiplication\n",
        "print(\"Multiplication: a * b =\", a * b)\n",
        "\n",
        "# ➗ Integer Division\n",
        "print(\"Division: a // b =\", a // b)\n",
        "\n",
        "# ➗ Division\n",
        "print(\"Division: a / b =\", a / b)\n",
        "\n",
        "# 🔁 Remainder (Modulus)\n",
        "print(\"Remainder (a % b):\", a % b)\n",
        "\n",
        "# ⬆️ Exponentiation (Power)\n",
        "print(\"Exponentiation (a ** 2):\", a ** 2)\n",
        "\n",
        "# Optional: Advanced - Square root\n",
        "print(\"Square root of a:\", torch.sqrt(a.float()))\n"
      ],
      "metadata": {
        "colab": {
          "base_uri": "https://localhost:8080/"
        },
        "id": "8tAq4EgK5UAF",
        "outputId": "fbe4eac1-e5e8-4878-e557-491b1e0f3756"
      },
      "execution_count": 3,
      "outputs": [
        {
          "output_type": "stream",
          "name": "stdout",
          "text": [
            "Tensor a: tensor([10, 25, 30, 42])\n",
            "Tensor b: tensor([2, 4, 6, 8])\n",
            "\n",
            "Addition: a + b = tensor([12, 29, 36, 50])\n",
            "Subtraction: a - b = tensor([ 8, 21, 24, 34])\n",
            "Multiplication: a * b = tensor([ 20, 100, 180, 336])\n",
            "Division: a // b = tensor([5, 6, 5, 5])\n",
            "Division: a / b = tensor([5.0000, 6.2500, 5.0000, 5.2500])\n",
            "Remainder (a % b): tensor([0, 1, 0, 2])\n",
            "Exponentiation (a ** 2): tensor([ 100,  625,  900, 1764])\n",
            "Square root of a: tensor([3.1623, 5.0000, 5.4772, 6.4807])\n"
          ]
        }
      ]
    }
  ]
}