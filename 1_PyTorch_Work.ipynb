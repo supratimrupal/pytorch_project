{
  "nbformat": 4,
  "nbformat_minor": 0,
  "metadata": {
    "colab": {
      "provenance": []
    },
    "kernelspec": {
      "name": "python3",
      "display_name": "Python 3"
    },
    "language_info": {
      "name": "python"
    }
  },
  "cells": [
    {
      "cell_type": "code",
      "source": [],
      "metadata": {
        "id": "0qCyZWpgjPvf"
      },
      "execution_count": 1,
      "outputs": []
    },
    {
      "cell_type": "code",
      "execution_count": 2,
      "metadata": {
        "id": "qc6m5nLAjDt1"
      },
      "outputs": [],
      "source": [
        "import torch\n",
        "import torch.nn as nn\n",
        "import torch.nn.functional as F\n",
        "from torch.optim import SGD\n",
        "\n",
        "import matplotlib.pyplot as plt\n",
        "import seaborn as sns\n"
      ]
    },
    {
      "cell_type": "code",
      "source": [
        "class BasicNN(nn.Module):\n",
        "    def __init__(self):\n",
        "        super().__init__()\n",
        "\n",
        "        # Input to Hidden Layer 1 (Weights & Biases)\n",
        "        self.w00 = nn.Parameter(torch.tensor(1.7), requires_grad=False)\n",
        "        self.b00 = nn.Parameter(torch.tensor(-0.85), requires_grad=False)\n",
        "        self.w01 = nn.Parameter(torch.tensor(-40.8), requires_grad=False)\n",
        "\n",
        "        self.w10 = nn.Parameter(torch.tensor(12.6), requires_grad=False)\n",
        "        self.b10 = nn.Parameter(torch.tensor(0.0), requires_grad=False)\n",
        "        self.w11 = nn.Parameter(torch.tensor(2.7), requires_grad=False)\n",
        "\n",
        "        # Final Output Bias\n",
        "        self.final_bias = nn.Parameter(torch.tensor(-16.0), requires_grad=False)\n",
        "\n",
        "    def forward(self, input):\n",
        "        # First pathway (top)\n",
        "        input_to_top_relu = input * self.w00 + self.b00\n",
        "        top_relu_output = F.relu(input_to_top_relu)\n",
        "        scaled_top_relu_output = top_relu_output * self.w01\n",
        "\n",
        "        # Second pathway (bottom)\n",
        "        input_to_bottom_relu = input * self.w10 + self.b10\n",
        "        bottom_relu_output = F.relu(input_to_bottom_relu)\n",
        "        scaled_bottom_relu_output = bottom_relu_output * self.w11\n",
        "\n",
        "        # Final layer (combine both paths)\n",
        "        input_to_final_relu = scaled_top_relu_output + scaled_bottom_relu_output + self.final_bias\n",
        "        output = F.relu(input_to_final_relu)\n",
        "\n",
        "        return output\n",
        "\n",
        "\n"
      ],
      "metadata": {
        "id": "qujfybGtk7zp"
      },
      "execution_count": 3,
      "outputs": []
    },
    {
      "cell_type": "code",
      "source": [
        "input_dose = torch.linspace(start=0, end=1, steps=11)\n",
        "input_dose"
      ],
      "metadata": {
        "colab": {
          "base_uri": "https://localhost:8080/"
        },
        "id": "i882Eb8Jmd9f",
        "outputId": "694999c6-1ac0-45ed-b552-d25088b2feda"
      },
      "execution_count": 4,
      "outputs": [
        {
          "output_type": "execute_result",
          "data": {
            "text/plain": [
              "tensor([0.0000, 0.1000, 0.2000, 0.3000, 0.4000, 0.5000, 0.6000, 0.7000, 0.8000,\n",
              "        0.9000, 1.0000])"
            ]
          },
          "metadata": {},
          "execution_count": 4
        }
      ]
    },
    {
      "cell_type": "code",
      "source": [
        "model = BasicNN()\n",
        "output_values= model(input_dose)"
      ],
      "metadata": {
        "id": "AEbmHBcqm3c8"
      },
      "execution_count": 5,
      "outputs": []
    },
    {
      "cell_type": "code",
      "source": [
        "sns.set(style='whitegrid')"
      ],
      "metadata": {
        "id": "K61srRxbm8BD"
      },
      "execution_count": 6,
      "outputs": []
    },
    {
      "cell_type": "code",
      "source": [
        "sns.lineplot(x=input_dose,\n",
        "             y=output_values,\n",
        "             color='blue',\n",
        "             linewidth=3)"
      ],
      "metadata": {
        "colab": {
          "base_uri": "https://localhost:8080/",
          "height": 475
        },
        "id": "wf9awg6tnG5l",
        "outputId": "41c96434-70ee-439f-c71b-b1581b71414b"
      },
      "execution_count": 7,
      "outputs": [
        {
          "output_type": "execute_result",
          "data": {
            "text/plain": [
              "<Axes: xlabel='None', ylabel='None'>"
            ]
          },
          "metadata": {},
          "execution_count": 7
        },
        {
          "output_type": "display_data",
          "data": {
            "text/plain": [
              "<Figure size 640x480 with 1 Axes>"
            ],
            "image/png": "[encoded data removed]"
          },
          "metadata": {}
        }
      ]
    },
    {
      "cell_type": "code",
      "source": [
        "class BasicNN_train(nn.Module):\n",
        "    def __init__(self):\n",
        "        super().__init__()\n",
        "\n",
        "        # Input to Hidden Layer 1 (Weights & Biases)\n",
        "        self.w00 = nn.Parameter(torch.tensor(1.7), requires_grad=False)\n",
        "        self.b00 = nn.Parameter(torch.tensor(-0.85), requires_grad=False)\n",
        "        self.w01 = nn.Parameter(torch.tensor(-40.8), requires_grad=False)\n",
        "\n",
        "        self.w10 = nn.Parameter(torch.tensor(12.6), requires_grad=False)\n",
        "        self.b10 = nn.Parameter(torch.tensor(0.0), requires_grad=False)\n",
        "        self.w11 = nn.Parameter(torch.tensor(2.7), requires_grad=False)\n",
        "\n",
        "        # Final Output Bias\n",
        "        self.final_bias = nn.Parameter(torch.tensor(0.0), requires_grad=True)\n",
        "\n",
        "    def forward(self, input):\n",
        "        # First pathway (top)\n",
        "        input_to_top_relu = input * self.w00 + self.b00\n",
        "        top_relu_output = F.relu(input_to_top_relu)\n",
        "        scaled_top_relu_output = top_relu_output * self.w01\n",
        "\n",
        "        # Second pathway (bottom)\n",
        "        input_to_bottom_relu = input * self.w10 + self.b10\n",
        "        bottom_relu_output = F.relu(input_to_bottom_relu)\n",
        "        scaled_bottom_relu_output = bottom_relu_output * self.w11\n",
        "\n",
        "        # Final layer (combine both paths)\n",
        "        input_to_final_relu = scaled_top_relu_output + scaled_bottom_relu_output + self.final_bias\n",
        "        output = F.relu(input_to_final_relu)\n",
        "\n",
        "        return output\n",
        "\n",
        "\n"
      ],
      "metadata": {
        "id": "4YcsePqroMZs"
      },
      "execution_count": 8,
      "outputs": []
    },
    {
      "cell_type": "code",
      "source": [
        "model = BasicNN_train()\n",
        "output_values= model(input_dose)"
      ],
      "metadata": {
        "id": "QiMA8eBQohre"
      },
      "execution_count": 31,
      "outputs": []
    },
    {
      "cell_type": "code",
      "source": [
        "sns.set(style='whitegrid')"
      ],
      "metadata": {
        "id": "nurXNdQAohre"
      },
      "execution_count": 10,
      "outputs": []
    },
    {
      "cell_type": "code",
      "source": [
        "sns.lineplot(x=input_dose,\n",
        "             y=output_values.detach(),\n",
        "             color='blue',\n",
        "             linewidth=3)"
      ],
      "metadata": {
        "colab": {
          "base_uri": "https://localhost:8080/",
          "height": 475
        },
        "outputId": "ebb712b0-3711-4c18-df1c-1b17e318e091",
        "id": "0m2s6aYgohre"
      },
      "execution_count": 24,
      "outputs": [
        {
          "output_type": "execute_result",
          "data": {
            "text/plain": [
              "<Axes: xlabel='None', ylabel='None'>"
            ]
          },
          "metadata": {},
          "execution_count": 24
        },
        {
          "output_type": "display_data",
          "data": {
            "text/plain": [
              "<Figure size 640x480 with 1 Axes>"
            ],
            "image/png": "[encoded data removed]"
          },
          "metadata": {}
        }
      ]
    },
    {
      "cell_type": "code",
      "source": [
        "# Dummy data\n",
        "inputs = torch.tensor([0, 0.5, 1])\n",
        "labels = torch.tensor([0, 1, 0])\n",
        "\n",
        "optimizer = SGD(model.parameters(), lr=0.1)\n",
        "\n",
        "print(\"Final bias, before optimization: \" + str(model.final_bias.data.item()) + \"\\n\")\n",
        "\n",
        "# Training loop\n",
        "for epoch in range(100):\n",
        "    total_loss = 0\n",
        "\n",
        "    for iteration in range(len(inputs)):\n",
        "        input_i = inputs[iteration]\n",
        "        label_i = labels[iteration]\n",
        "\n",
        "        output_i = model(input_i)\n",
        "        loss = (output_i - label_i) ** 2\n",
        "\n",
        "        loss.backward()  # calculate gradients\n",
        "        total_loss += float(loss)\n",
        "\n",
        "    print(f\"Step: {epoch}, Total Epoch Loss: {total_loss}\")\n",
        "\n",
        "    if total_loss < 0.0001:\n",
        "        print(\"Num steps: \" + str(epoch))\n",
        "        break\n",
        "\n",
        "    optimizer.step()       # update parameter using gradients\n",
        "    optimizer.zero_grad()  # clear gradients for next epoch\n",
        "\n",
        "    print(\"Step: \" + str(epoch) + \" Final Bias: \" + str(model.final_bias.data.item()) + \"\\n\")\n",
        "\n",
        "print(\"Final bias, after optimization: \" + str(model.final_bias.data.item()))"
      ],
      "metadata": {
        "colab": {
          "base_uri": "https://localhost:8080/"
        },
        "id": "2SpTWtLPqsJB",
        "outputId": "fb321b43-b8d4-4bb1-b363-68ecad873e23"
      },
      "execution_count": 32,
      "outputs": [
        {
          "output_type": "stream",
          "name": "stdout",
          "text": [
            "Final bias, before optimization: 0.0\n",
            "\n",
            "Step: 0, Total Epoch Loss: 256.3200988769531\n",
            "Step: 0 Final Bias: -3.202000141143799\n",
            "\n",
            "Step: 1, Total Epoch Loss: 164.0448760986328\n",
            "Step: 1 Final Bias: -5.7636003494262695\n",
            "\n",
            "Step: 2, Total Epoch Loss: 104.98870849609375\n",
            "Step: 2 Final Bias: -7.812880516052246\n",
            "\n",
            "Step: 3, Total Epoch Loss: 67.1927719116211\n",
            "Step: 3 Final Bias: -9.45230484008789\n",
            "\n",
            "Step: 4, Total Epoch Loss: 43.00336837768555\n",
            "Step: 4 Final Bias: -10.763843536376953\n",
            "\n",
            "Step: 5, Total Epoch Loss: 27.522159576416016\n",
            "Step: 5 Final Bias: -11.813075065612793\n",
            "\n",
            "Step: 6, Total Epoch Loss: 17.614181518554688\n",
            "Step: 6 Final Bias: -12.652460098266602\n",
            "\n",
            "Step: 7, Total Epoch Loss: 11.273076057434082\n",
            "Step: 7 Final Bias: -13.323967933654785\n",
            "\n",
            "Step: 8, Total Epoch Loss: 7.21476936340332\n",
            "Step: 8 Final Bias: -13.861174583435059\n",
            "\n",
            "Step: 9, Total Epoch Loss: 4.6174516677856445\n",
            "Step: 9 Final Bias: -14.290939331054688\n",
            "\n",
            "Step: 10, Total Epoch Loss: 2.9551703929901123\n",
            "Step: 10 Final Bias: -14.634751319885254\n",
            "\n",
            "Step: 11, Total Epoch Loss: 1.8913096189498901\n",
            "Step: 11 Final Bias: -14.909801483154297\n",
            "\n",
            "Step: 12, Total Epoch Loss: 1.210437297821045\n",
            "Step: 12 Final Bias: -15.129840850830078\n",
            "\n",
            "Step: 13, Total Epoch Loss: 0.7746805548667908\n",
            "Step: 13 Final Bias: -15.305872917175293\n",
            "\n",
            "Step: 14, Total Epoch Loss: 0.49579527974128723\n",
            "Step: 14 Final Bias: -15.446698188781738\n",
            "\n",
            "Step: 15, Total Epoch Loss: 0.3173092007637024\n",
            "Step: 15 Final Bias: -15.559358596801758\n",
            "\n",
            "Step: 16, Total Epoch Loss: 0.20307788252830505\n",
            "Step: 16 Final Bias: -15.649486541748047\n",
            "\n",
            "Step: 17, Total Epoch Loss: 0.12997011840343475\n",
            "Step: 17 Final Bias: -15.721589088439941\n",
            "\n",
            "Step: 18, Total Epoch Loss: 0.0831809863448143\n",
            "Step: 18 Final Bias: -15.779271125793457\n",
            "\n",
            "Step: 19, Total Epoch Loss: 0.053235918283462524\n",
            "Step: 19 Final Bias: -15.825416564941406\n",
            "\n",
            "Step: 20, Total Epoch Loss: 0.03407112881541252\n",
            "Step: 20 Final Bias: -15.862333297729492\n",
            "\n",
            "Step: 21, Total Epoch Loss: 0.021805522963404655\n",
            "Step: 21 Final Bias: -15.891866683959961\n",
            "\n",
            "Step: 22, Total Epoch Loss: 0.013955534435808659\n",
            "Step: 22 Final Bias: -15.91549301147461\n",
            "\n",
            "Step: 23, Total Epoch Loss: 0.008931614458560944\n",
            "Step: 23 Final Bias: -15.934394836425781\n",
            "\n",
            "Step: 24, Total Epoch Loss: 0.005716175306588411\n",
            "Step: 24 Final Bias: -15.949516296386719\n",
            "\n",
            "Step: 25, Total Epoch Loss: 0.003658306086435914\n",
            "Step: 25 Final Bias: -15.961612701416016\n",
            "\n",
            "Step: 26, Total Epoch Loss: 0.0023413528688251972\n",
            "Step: 26 Final Bias: -15.971290588378906\n",
            "\n",
            "Step: 27, Total Epoch Loss: 0.0014984363224357367\n",
            "Step: 27 Final Bias: -15.979032516479492\n",
            "\n",
            "Step: 28, Total Epoch Loss: 0.0009589992114342749\n",
            "Step: 28 Final Bias: -15.985225677490234\n",
            "\n",
            "Step: 29, Total Epoch Loss: 0.0006137784221209586\n",
            "Step: 29 Final Bias: -15.990180969238281\n",
            "\n",
            "Step: 30, Total Epoch Loss: 0.00039280304918065667\n",
            "Step: 30 Final Bias: -15.994144439697266\n",
            "\n",
            "Step: 31, Total Epoch Loss: 0.0002514060470275581\n",
            "Step: 31 Final Bias: -15.997315406799316\n",
            "\n",
            "Step: 32, Total Epoch Loss: 0.00016090471763163805\n",
            "Step: 32 Final Bias: -15.999852180480957\n",
            "\n",
            "Step: 33, Total Epoch Loss: 0.00010298288543708622\n",
            "Step: 33 Final Bias: -16.001882553100586\n",
            "\n",
            "Step: 34, Total Epoch Loss: 6.58966600894928e-05\n",
            "Num steps: 34\n",
            "Final bias, after optimization: -16.001882553100586\n"
          ]
        }
      ]
    },
    {
      "cell_type": "code",
      "source": [
        "output_values= model(input_dose)"
      ],
      "metadata": {
        "id": "W9enOgaw8MQQ"
      },
      "execution_count": 34,
      "outputs": []
    },
    {
      "cell_type": "code",
      "source": [
        "sns.lineplot(x=input_dose,\n",
        "             y=output_values.detach(),\n",
        "             color='blue',\n",
        "             linewidth=3)"
      ],
      "metadata": {
        "colab": {
          "base_uri": "https://localhost:8080/",
          "height": 475
        },
        "id": "zWvai8Qc8BkQ",
        "outputId": "e1432afc-ab20-47ce-a2d2-2d3523ae0038"
      },
      "execution_count": 35,
      "outputs": [
        {
          "output_type": "execute_result",
          "data": {
            "text/plain": [
              "<Axes: xlabel='None', ylabel='None'>"
            ]
          },
          "metadata": {},
          "execution_count": 35
        },
        {
          "output_type": "display_data",
          "data": {
            "text/plain": [
              "<Figure size 640x480 with 1 Axes>"
            ],
            "image/png": "[encoded data removed]"
          },
          "metadata": {}
        }
      ]
    }
  ]
}