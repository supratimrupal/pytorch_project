{
  "nbformat": 4,
  "nbformat_minor": 0,
  "metadata": {
    "colab": {
      "provenance": [],
      "gpuType": "T4"
    },
    "kernelspec": {
      "name": "python3",
      "display_name": "Python 3"
    },
    "language_info": {
      "name": "python"
    },
    "accelerator": "GPU"
  },
  "cells": [
    {
      "cell_type": "markdown",
      "source": [
        "### Run in GPU"
      ],
      "metadata": {
        "id": "1X9o990XYjYL"
      }
    },
    {
      "cell_type": "code",
      "source": [
        "# Import dependencies\n",
        "import torch\n",
        "from PIL import Image\n",
        "from torch import nn, save, load\n",
        "from torch.optim import Adam\n",
        "from torch.utils.data import DataLoader\n",
        "from torchvision import datasets\n",
        "from torchvision.transforms import ToTensor\n"
      ],
      "metadata": {
        "id": "9mew_KEBB-1S"
      },
      "execution_count": 1,
      "outputs": []
    },
    {
      "cell_type": "code",
      "source": [
        "# Get MNIST data 0-9\n",
        "train = datasets.MNIST(root=\"data\", download=True, train=True, transform=ToTensor()) #Transforming Image to Tensor\n",
        "dataset = DataLoader(train, 32) #Batch size=32\n",
        "#1,28,28 - classes 0-9"
      ],
      "metadata": {
        "colab": {
          "base_uri": "https://localhost:8080/"
        },
        "id": "PO712ypgCBoh",
        "outputId": "02e48a7a-a161-4e37-f710-6b536b282ca5"
      },
      "execution_count": 2,
      "outputs": [
        {
          "output_type": "stream",
          "name": "stderr",
          "text": [
            "100%|██████████| 9.91M/9.91M [00:01<00:00, 5.00MB/s]\n",
            "100%|██████████| 28.9k/28.9k [00:00<00:00, 134kB/s]\n",
            "100%|██████████| 1.65M/1.65M [00:06<00:00, 243kB/s]\n",
            "100%|██████████| 4.54k/4.54k [00:00<00:00, 8.90MB/s]\n"
          ]
        }
      ]
    },
    {
      "cell_type": "code",
      "source": [
        "# Image Classifier Neural Network\n",
        "class ImageClassifier(nn.Module):\n",
        "    def __init__(self):\n",
        "        super().__init__()\n",
        "        self.model = nn.Sequential(\n",
        "            nn.Conv2d(1, 32, (3,3)),\n",
        "            nn.ReLU(),\n",
        "            nn.Conv2d(32, 64, (3,3)),\n",
        "            nn.ReLU(),\n",
        "            nn.Conv2d(64, 64, (3,3)),\n",
        "            nn.ReLU(),\n",
        "            nn.Flatten(),\n",
        "            nn.Linear(64*(28-6)*(28-6), 10)\n",
        "        )\n",
        "\n",
        "    def forward(self, x):\n",
        "        return self.model(x)"
      ],
      "metadata": {
        "id": "QHpsi50SCEKI"
      },
      "execution_count": 3,
      "outputs": []
    },
    {
      "cell_type": "code",
      "source": [
        "# Instance of the neural network, loss, optimizer\n",
        "device = torch.device(\"cuda\" if torch.cuda.is_available() else \"cpu\")\n",
        "clf = ImageClassifier().to(device)\n",
        "opt = Adam(clf.parameters(), lr=1e-3)\n",
        "loss_fn = nn.CrossEntropyLoss()"
      ],
      "metadata": {
        "id": "2kgNNYUjCHCW"
      },
      "execution_count": 4,
      "outputs": []
    },
    {
      "cell_type": "markdown",
      "source": [
        "#### Link for jpeg - https://github.com/nicknochnack/PyTorchin15/tree/main"
      ],
      "metadata": {
        "id": "-2cYsDVrYXgF"
      }
    },
    {
      "cell_type": "code",
      "execution_count": 9,
      "metadata": {
        "id": "urZGteMkB7Y5",
        "colab": {
          "base_uri": "https://localhost:8080/"
        },
        "outputId": "7cbbfe18-2606-4ae3-9bb3-4f3d3190876d"
      },
      "outputs": [
        {
          "output_type": "stream",
          "name": "stdout",
          "text": [
            "Epoch:0 loss is 0.0\n",
            "tensor(9, device='cuda:0')\n"
          ]
        }
      ],
      "source": [
        "# Training flow\n",
        "if __name__ == \"__main__\":\n",
        "    for epoch in range(1): # train for 10 epochs\n",
        "        for batch in dataset:\n",
        "            X,y = batch\n",
        "            X, y = X.to(device), y.to(device)\n",
        "            yhat = clf(X)\n",
        "            loss = loss_fn(yhat, y)\n",
        "\n",
        "            # Apply backprop\n",
        "            opt.zero_grad()\n",
        "            loss.backward()\n",
        "            opt.step()\n",
        "\n",
        "        print(f\"Epoch:{epoch} loss is {loss.item()}\")\n",
        "\n",
        "    with open('model_state.pt', 'wb') as f:\n",
        "        save(clf.state_dict(), f)\n",
        "\n",
        "    with open('model_state.pt', 'rb') as f:\n",
        "        clf.load_state_dict(load(f))\n",
        "\n",
        "    img = Image.open('img_3.jpg')\n",
        "    img_tensor = ToTensor()(img).unsqueeze(0).to(device)\n",
        "\n",
        "    print(torch.argmax(clf(img_tensor)))"
      ]
    }
  ]
}